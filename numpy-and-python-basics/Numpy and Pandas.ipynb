{
 "cells": [
  {
   "cell_type": "markdown",
   "metadata": {},
   "source": [
    "# Welcome to Numpy Basics\n",
    "                                                                                                        - Yashwanth M"
   ]
  },
  {
   "cell_type": "markdown",
   "metadata": {},
   "source": [
    "-> Multidimensional array objects and collection of routines to process those arrays. <br>\n",
    "-> Performing mathematical and logical operations. <br>\n"
   ]
  },
  {
   "cell_type": "code",
   "execution_count": 4,
   "metadata": {},
   "outputs": [
    {
     "name": "stdout",
     "output_type": "stream",
     "text": [
      "[1 5 8]\n",
      "[[1 2 3]]\n"
     ]
    }
   ],
   "source": [
    "import numpy as np \n",
    "a = np.array([1,5,8])\n",
    "b = np.array([1,2,3],ndmin = 2)      # minimum dimension\n",
    "print(a)\n",
    "print(b)"
   ]
  },
  {
   "cell_type": "code",
   "execution_count": 2,
   "metadata": {},
   "outputs": [
    {
     "name": "stdout",
     "output_type": "stream",
     "text": [
      "[1.+0.j 2.+0.j 4.+0.j 5.+0.j]\n"
     ]
    }
   ],
   "source": [
    "c = np.array([1,2,4,5], dtype = complex)    # specifying data type\n",
    "print(c)"
   ]
  },
  {
   "cell_type": "code",
   "execution_count": 3,
   "metadata": {},
   "outputs": [
    {
     "name": "stdout",
     "output_type": "stream",
     "text": [
      "[[1 2 3]\n",
      " [4 5 6]]\n",
      "(2, 3)\n"
     ]
    }
   ],
   "source": [
    "d = np.array([[1,2,3],[4,5,6]]) \n",
    "print(d)\n",
    "print(d.shape)                         # print array structure"
   ]
  },
  {
   "cell_type": "code",
   "execution_count": 4,
   "metadata": {},
   "outputs": [
    {
     "name": "stdout",
     "output_type": "stream",
     "text": [
      "[[1 2]\n",
      " [3 4]\n",
      " [5 6]]\n"
     ]
    }
   ],
   "source": [
    "d = np.array([[1,2,3],[4,5,6]]) \n",
    "d.shape = (3,2)                        # change the array structure\n",
    "print(d) "
   ]
  },
  {
   "cell_type": "code",
   "execution_count": 5,
   "metadata": {},
   "outputs": [
    {
     "name": "stdout",
     "output_type": "stream",
     "text": [
      "1\n",
      "[ 0  1  2  3  4  5  6  7  8  9 10 11 12 13 14 15 16 17 18 19 20 21 22 23]\n"
     ]
    }
   ],
   "source": [
    "a = np.arange(24)                # creates a range of numbers until the last but one element\n",
    "print(a.ndim)\n",
    "print(a)"
   ]
  },
  {
   "cell_type": "code",
   "execution_count": 6,
   "metadata": {},
   "outputs": [
    {
     "name": "stdout",
     "output_type": "stream",
     "text": [
      "[[[ 0  1  2]\n",
      "  [ 3  4  5]\n",
      "  [ 6  7  8]\n",
      "  [ 9 10 11]]\n",
      "\n",
      " [[12 13 14]\n",
      "  [15 16 17]\n",
      "  [18 19 20]\n",
      "  [21 22 23]]]\n"
     ]
    }
   ],
   "source": [
    "b = a.reshape(2,4,3)        # 24 elements    # reshape function to change structure\n",
    "print(b) "
   ]
  },
  {
   "cell_type": "code",
   "execution_count": 7,
   "metadata": {},
   "outputs": [
    {
     "name": "stdout",
     "output_type": "stream",
     "text": [
      "<class 'list'> <class 'numpy.ndarray'> [1 2 3]\n"
     ]
    }
   ],
   "source": [
    "# convert list to ndarray \n",
    "\n",
    "x = [1,2,3] \n",
    "a = np.asarray(x) \n",
    "print(type(x),type(a),a)"
   ]
  },
  {
   "cell_type": "code",
   "execution_count": 8,
   "metadata": {},
   "outputs": [
    {
     "name": "stdout",
     "output_type": "stream",
     "text": [
      "[0 1 2 3 4 5 6 7 8 9]\n",
      "[2 4 6]\n"
     ]
    }
   ],
   "source": [
    "a = np.arange(10) \n",
    "print(a)\n",
    "s = slice(2,7,2)                # creating a slice (start, stop, step)\n",
    "print(a[s])                     # using slice to extract data from an array"
   ]
  },
  {
   "cell_type": "code",
   "execution_count": 9,
   "metadata": {},
   "outputs": [
    {
     "name": "stdout",
     "output_type": "stream",
     "text": [
      "[ 4  5  6  7  8  9 10 11 12 13 14]\n",
      "[ 7  8  9 10]\n"
     ]
    }
   ],
   "source": [
    "a = np.arange(4,15)\n",
    "print(a)\n",
    "print(a[3:7])                  # slicing just as in python list"
   ]
  },
  {
   "cell_type": "code",
   "execution_count": 10,
   "metadata": {},
   "outputs": [
    {
     "name": "stdout",
     "output_type": "stream",
     "text": [
      "[0 1 2 3 4 5 6 7 8 9]\n",
      "[2 4 6]\n"
     ]
    }
   ],
   "source": [
    "a = np.arange(10) \n",
    "print(a)\n",
    "print(a[2:7:2])          # colon operator can be directly used with the ndarray for slicing\n"
   ]
  },
  {
   "cell_type": "code",
   "execution_count": 10,
   "metadata": {},
   "outputs": [
    {
     "name": "stdout",
     "output_type": "stream",
     "text": [
      "[[ 0  1  2  3]\n",
      " [ 4  5  6  7]\n",
      " [ 8  9 10 11]]\n",
      "-----\n",
      "[0 1 2 3]\n",
      "[4 5 6 7]\n",
      "[ 8  9 10 11]\n",
      "0 1 2 3 4 5 6 7 8 9 10 11 "
     ]
    }
   ],
   "source": [
    "a = np.arange(12) \n",
    "a = a.reshape(3,4)\n",
    "\n",
    "print(a)\n",
    "print(\"-----\")\n",
    "for x in a:\n",
    "    print(x)\n",
    "    \n",
    "for x in np.nditer(a):      # nditer method to extract each element from ndarray\n",
    "    print(x, end=\" \")"
   ]
  },
  {
   "cell_type": "code",
   "execution_count": 12,
   "metadata": {},
   "outputs": [
    {
     "name": "stdout",
     "output_type": "stream",
     "text": [
      "[[ 0  1  2  3]\n",
      " [ 4  5  6  7]\n",
      " [ 8  9 10 11]]\n",
      "[ 0  1  2  3  4  5  6  7  8  9 10 11]\n"
     ]
    }
   ],
   "source": [
    "print(a)\n",
    "print(a.flatten())        # flatten returns a copy of the array collapsed into one dimension"
   ]
  },
  {
   "cell_type": "markdown",
   "metadata": {},
   "source": [
    "## Pandas Intro"
   ]
  },
  {
   "cell_type": "markdown",
   "metadata": {},
   "source": [
    "-> High performance data manipulation and data analysis <br>\n",
    "-> DataFrame object - default and customized indexing <br>\n",
    "-> High efficiency Merging and joining of data <br>\n",
    "-> Columns from a data structure can be deleted or inserted. <br>\n",
    "-> Label-based slicing, indexing of large datasets. <br>\n"
   ]
  },
  {
   "cell_type": "markdown",
   "metadata": {},
   "source": [
    "## Pandas Data structures"
   ]
  },
  {
   "cell_type": "markdown",
   "metadata": {},
   "source": [
    "Series - 1D labeled homogenous array <br>\n",
    "Data frames - 2D labeled heterogeneously typed columns <br>\n",
    "Panel - 3D labeled, size mutable array <br>"
   ]
  },
  {
   "cell_type": "code",
   "execution_count": 12,
   "metadata": {},
   "outputs": [
    {
     "name": "stdout",
     "output_type": "stream",
     "text": [
      "0      3\n",
      "1      5\n",
      "2    hie\n",
      "dtype: object\n"
     ]
    }
   ],
   "source": [
    "import pandas as pd\n",
    "import numpy as np\n",
    "\n",
    "s = pd.Series([3,5,\"hie\"])\n",
    "print(s)"
   ]
  },
  {
   "cell_type": "code",
   "execution_count": 14,
   "metadata": {},
   "outputs": [
    {
     "name": "stdout",
     "output_type": "stream",
     "text": [
      "100    a\n",
      "101    b\n",
      "102    c\n",
      "103    d\n",
      "dtype: object\n"
     ]
    }
   ],
   "source": [
    "data = np.array(['a','b','c','d'])\n",
    "s = pd.Series(data,index=[100,101,102,103])\n",
    "print(s)"
   ]
  },
  {
   "cell_type": "code",
   "execution_count": 15,
   "metadata": {},
   "outputs": [
    {
     "name": "stdout",
     "output_type": "stream",
     "text": [
      "100    a\n",
      "101    b\n",
      "dtype: object\n"
     ]
    }
   ],
   "source": [
    "print(s[:2])"
   ]
  },
  {
   "cell_type": "code",
   "execution_count": 16,
   "metadata": {},
   "outputs": [
    {
     "name": "stdout",
     "output_type": "stream",
     "text": [
      "1\n",
      "a    1\n",
      "d    4\n",
      "dtype: int64\n"
     ]
    }
   ],
   "source": [
    "s = pd.Series([1,2,3,4,5],index = ['a','b','c','d','e'])\n",
    "print(s['a'])                                                 #retrieve through a label\n",
    "print(s[['a','d']])                                                 #retrieve through multiple labels"
   ]
  },
  {
   "cell_type": "markdown",
   "metadata": {},
   "source": [
    "## Data Frame - 2D data structure (like a table)"
   ]
  },
  {
   "cell_type": "code",
   "execution_count": 17,
   "metadata": {},
   "outputs": [
    {
     "name": "stdout",
     "output_type": "stream",
     "text": [
      "      Name   Age\n",
      "0    Trent  23.0\n",
      "1  Lucifer  30.0\n",
      "2      Tom  27.0\n"
     ]
    }
   ],
   "source": [
    "#creating a dataframe using a list\n",
    "\n",
    "data = [['Trent',23],['Lucifer',30],['Tom',27]]\n",
    "df = pd.DataFrame(data,columns=['Name','Age'],dtype=float)\n",
    "print(df)"
   ]
  },
  {
   "cell_type": "code",
   "execution_count": 18,
   "metadata": {},
   "outputs": [
    {
     "name": "stdout",
     "output_type": "stream",
     "text": [
      "     Name  Age\n",
      "0  Hunter   28\n",
      "1  Olivia   34\n",
      "2   Steve   29\n",
      "3    Fred   42\n"
     ]
    }
   ],
   "source": [
    "#creating a dataframe using a dictionary\n",
    "\n",
    "data = {'Name':['Hunter', 'Olivia', 'Steve', 'Fred'],'Age':[28,34,29,42]}\n",
    "df = pd.DataFrame(data)\n",
    "print(df)"
   ]
  },
  {
   "cell_type": "code",
   "execution_count": 19,
   "metadata": {},
   "outputs": [
    {
     "name": "stdout",
     "output_type": "stream",
     "text": [
      "   a   b   c\n",
      "0  1   2   8\n",
      "1  5  10  20\n"
     ]
    }
   ],
   "source": [
    "# creating a dataframe using list of dicts\n",
    "\n",
    "data = [{'a': 1, 'b': 2, 'c':  8},{'a': 5, 'b': 10, 'c': 20}]\n",
    "df = pd.DataFrame(data)\n",
    "print(df)"
   ]
  },
  {
   "cell_type": "code",
   "execution_count": 20,
   "metadata": {},
   "outputs": [
    {
     "name": "stdout",
     "output_type": "stream",
     "text": [
      "0    0.784036\n",
      "1   -0.331150\n",
      "2    1.988318\n",
      "3   -1.271146\n",
      "4   -0.064065\n",
      "dtype: float64\n",
      "length  5\n",
      "values : [ 0.78403607 -0.33114966  1.98831818 -1.27114576 -0.064065  ]\n"
     ]
    }
   ],
   "source": [
    "#Create a series with random numbers\n",
    "\n",
    "s = pd.Series(np.random.randn(5))\n",
    "sz = s.size\n",
    "print(s)\n",
    "print(\"length \" ,sz)\n",
    "print(\"values :\", s.values)"
   ]
  },
  {
   "cell_type": "code",
   "execution_count": 21,
   "metadata": {
    "scrolled": true
   },
   "outputs": [
    {
     "name": "stdout",
     "output_type": "stream",
     "text": [
      "          0         1         2         3\n",
      "0 -0.118137 -0.495100 -0.780690  1.714659\n",
      "1  0.051374 -0.125485 -1.788657  0.175081\n",
      "2 -1.128631 -0.505367  1.482425  0.040113\n",
      "3 -0.359545 -0.025957  0.973404  0.018913\n",
      "4  1.492735 -0.529625 -0.888778 -1.128884\n",
      "5  0.326850  0.086657 -1.576577  0.996822\n",
      "6 -0.526815 -0.711865  0.495959 -1.147441\n",
      "7  0.240858  0.976462 -0.428843 -0.223987\n",
      "8 -1.379169 -0.367458  1.123052  0.021591\n",
      "9  1.085143 -2.969424  1.212401 -0.113091\n"
     ]
    }
   ],
   "source": [
    "#Create a DataFrame with random numbers\n",
    "\n",
    "s = pd.DataFrame(np.random.randn(10,4))\n",
    "print(s)"
   ]
  },
  {
   "cell_type": "code",
   "execution_count": 16,
   "metadata": {},
   "outputs": [
    {
     "name": "stdout",
     "output_type": "stream",
     "text": [
      "     Name  Age\n",
      "0  Hunter   28\n",
      "1  Olivia   34\n",
      "2   Steve   29\n",
      "----------\n",
      "     Name  Age\n",
      "1  Olivia   34\n",
      "2   Steve   29\n",
      "3    Fred   42\n"
     ]
    }
   ],
   "source": [
    "data = {'Name':['Hunter', 'Olivia', 'Steve', 'Fred'],'Age':[28,34,29,42]}\n",
    "df = pd.DataFrame(data)\n",
    "\n",
    "print(df.head(3))\n",
    "print(\"----------\")\n",
    "print(df.tail(3))"
   ]
  },
  {
   "cell_type": "code",
   "execution_count": 23,
   "metadata": {},
   "outputs": [
    {
     "name": "stdout",
     "output_type": "stream",
     "text": [
      "Name 0    Hunter\n",
      "1    Olivia\n",
      "2     Steve\n",
      "3      Fred\n",
      "Name: Name, dtype: object\n",
      "Age 0    28\n",
      "1    34\n",
      "2    29\n",
      "3    42\n",
      "Name: Age, dtype: int64\n"
     ]
    }
   ],
   "source": [
    "for key,value in df.iteritems():              # label is the key and column value is the series object\n",
    "   print(key,value)"
   ]
  },
  {
   "cell_type": "code",
   "execution_count": 24,
   "metadata": {},
   "outputs": [
    {
     "name": "stdout",
     "output_type": "stream",
     "text": [
      "0     tory\n",
      "1    bruce\n",
      "2      ron\n",
      "3      liz\n",
      "4    steve\n",
      "dtype: object\n",
      "------------\n",
      "0     TORY\n",
      "1    BRUCE\n",
      "2      RON\n",
      "3      LIZ\n",
      "4    STEVE\n",
      "dtype: object\n",
      "------------\n",
      "0    4\n",
      "1    5\n",
      "2    3\n",
      "3    3\n",
      "4    5\n",
      "dtype: int64\n"
     ]
    }
   ],
   "source": [
    "s = pd.Series(['Tory', 'Bruce', 'Ron', 'Liz','Steve'])\n",
    "\n",
    "print(s.str.lower())\n",
    "print(\"------------\")\n",
    "print(s.str.upper())\n",
    "print(\"------------\")\n",
    "print(s.str.len())\n",
    "\n",
    "\n",
    " # All other string functions of Python can be used on series data"
   ]
  },
  {
   "cell_type": "markdown",
   "metadata": {},
   "source": [
    "## Basic graph plotting"
   ]
  },
  {
   "cell_type": "code",
   "execution_count": 19,
   "metadata": {},
   "outputs": [
    {
     "data": {
      "text/plain": [
       "<matplotlib.axes._subplots.AxesSubplot at 0x1bf09f81748>"
      ]
     },
     "execution_count": 19,
     "metadata": {},
     "output_type": "execute_result"
    },
    {
     "data": {
      "image/png": "[encoded data removed]",
      "text/plain": [
       "<Figure size 432x288 with 1 Axes>"
      ]
     },
     "metadata": {
      "needs_background": "light"
     },
     "output_type": "display_data"
    },
    {
     "data": {
      "image/png": "[encoded data removed]",
      "text/plain": [
       "<Figure size 432x288 with 1 Axes>"
      ]
     },
     "metadata": {
      "needs_background": "light"
     },
     "output_type": "display_data"
    }
   ],
   "source": [
    "df = pd.DataFrame(np.random.rand(10,4),columns=['ads','ade','c','d'])\n",
    "df.plot.bar()\n",
    "df.plot.bar(stacked=True)"
   ]
  },
  {
   "cell_type": "code",
   "execution_count": 26,
   "metadata": {},
   "outputs": [
    {
     "data": {
      "text/plain": [
       "<matplotlib.axes._subplots.AxesSubplot at 0x1f609574bc8>"
      ]
     },
     "execution_count": 26,
     "metadata": {},
     "output_type": "execute_result"
    },
    {
     "data": {
      "image/png": "[encoded data removed]",
      "text/plain": [
       "<Figure size 432x288 with 1 Axes>"
      ]
     },
     "metadata": {
      "needs_background": "light"
     },
     "output_type": "display_data"
    },
    {
     "data": {
      "image/png": "[encoded data removed]",
      "text/plain": [
       "<Figure size 432x288 with 1 Axes>"
      ]
     },
     "metadata": {
      "needs_background": "light"
     },
     "output_type": "display_data"
    }
   ],
   "source": [
    "df.plot.barh()\n",
    "df.plot.barh(stacked=True)"
   ]
  },
  {
   "cell_type": "code",
   "execution_count": 27,
   "metadata": {},
   "outputs": [
    {
     "data": {
      "text/plain": [
       "<matplotlib.axes._subplots.AxesSubplot at 0x1f609664a88>"
      ]
     },
     "execution_count": 27,
     "metadata": {},
     "output_type": "execute_result"
    },
    {
     "data": {
      "image/png": "[encoded data removed]",
      "text/plain": [
       "<Figure size 432x288 with 1 Axes>"
      ]
     },
     "metadata": {
      "needs_background": "light"
     },
     "output_type": "display_data"
    }
   ],
   "source": [
    "df.plot.box()"
   ]
  },
  {
   "cell_type": "code",
   "execution_count": 28,
   "metadata": {},
   "outputs": [
    {
     "data": {
      "text/plain": [
       "<matplotlib.axes._subplots.AxesSubplot at 0x1f609499c88>"
      ]
     },
     "execution_count": 28,
     "metadata": {},
     "output_type": "execute_result"
    },
    {
     "data": {
      "image/png": "[encoded data removed]",
      "text/plain": [
       "<Figure size 432x288 with 1 Axes>"
      ]
     },
     "metadata": {
      "needs_background": "light"
     },
     "output_type": "display_data"
    }
   ],
   "source": [
    "df.plot.area()"
   ]
  },
  {
   "cell_type": "code",
   "execution_count": 29,
   "metadata": {},
   "outputs": [
    {
     "data": {
      "text/plain": [
       "<matplotlib.axes._subplots.AxesSubplot at 0x1f6094c2a88>"
      ]
     },
     "execution_count": 29,
     "metadata": {},
     "output_type": "execute_result"
    },
    {
     "data": {
      "image/png": "[encoded data removed]",
      "text/plain": [
       "<Figure size 432x288 with 1 Axes>"
      ]
     },
     "metadata": {
      "needs_background": "light"
     },
     "output_type": "display_data"
    }
   ],
   "source": [
    "df.plot.scatter(x='a', y='b')"
   ]
  },
  {
   "cell_type": "code",
   "execution_count": null,
   "metadata": {},
   "outputs": [],
   "source": []
  },
  {
   "cell_type": "code",
   "execution_count": null,
   "metadata": {},
   "outputs": [],
   "source": []
  }
 ],
 "metadata": {
  "kernelspec": {
   "display_name": "Python 3",
   "language": "python",
   "name": "python3"
  },
  "language_info": {
   "codemirror_mode": {
    "name": "ipython",
    "version": 3
   },
   "file_extension": ".py",
   "mimetype": "text/x-python",
   "name": "python",
   "nbconvert_exporter": "python",
   "pygments_lexer": "ipython3",
   "version": "3.7.6"
  }
 },
 "nbformat": 4,
 "nbformat_minor": 4
}
